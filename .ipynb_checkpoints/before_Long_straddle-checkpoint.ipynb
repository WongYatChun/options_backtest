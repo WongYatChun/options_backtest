{
 "cells": [
  {
   "cell_type": "code",
   "execution_count": 1,
   "metadata": {},
   "outputs": [
    {
     "data": {
      "text/html": [
       "<style>.container { width:100% !important; }</style>"
      ],
      "text/plain": [
       "<IPython.core.display.HTML object>"
      ]
     },
     "metadata": {},
     "output_type": "display_data"
    },
    {
     "data": {
      "text/plain": [
       "PureWindowsPath('C:/Users/rex.wong/Documents/Project2_options_1213/Project2_options')"
      ]
     },
     "execution_count": 1,
     "metadata": {},
     "output_type": "execute_result"
    }
   ],
   "source": [
    "import os\n",
    "from datetime import datetime\n",
    "import pandas as pd\n",
    "import numpy as np\n",
    "\n",
    "from optionStrategies import long_call, short_call, long_call_long_put, long_call_short_put\n",
    "from data_import import get_data\n",
    "from tradeStat import results\n",
    "from pathlib import PurePath, Path\n",
    "\n",
    "pp = PurePath(Path.cwd()).parts[:]\n",
    "pdir = PurePath(*pp)\n",
    "infp=PurePath(pdir)\n",
    "\n",
    "from IPython.core.display import display, HTML\n",
    "display(HTML(\"<style>.container { width:100% !important; }</style>\"))\n",
    "infp"
   ]
  },
  {
   "cell_type": "code",
   "execution_count": 2,
   "metadata": {},
   "outputs": [],
   "source": [
    "STRAT = \"before_long_straddle\"\n",
    "MARKET = \"ASX\"\n",
    "\n",
    "\n",
    "path = os.path.join(infp ,STRAT, MARKET)"
   ]
  },
  {
   "cell_type": "code",
   "execution_count": 3,
   "metadata": {},
   "outputs": [
    {
     "ename": "NameError",
     "evalue": "name 'NUM_FILE' is not defined",
     "output_type": "error",
     "traceback": [
      "\u001b[1;31m---------------------------------------------------------------------------\u001b[0m",
      "\u001b[1;31mNameError\u001b[0m                                 Traceback (most recent call last)",
      "\u001b[1;32m<ipython-input-3-984bd1840ad8>\u001b[0m in \u001b[0;36m<module>\u001b[1;34m()\u001b[0m\n\u001b[0;32m      2\u001b[0m \u001b[1;33m\u001b[0m\u001b[0m\n\u001b[0;32m      3\u001b[0m \u001b[0mentries\u001b[0m \u001b[1;33m=\u001b[0m \u001b[0mos\u001b[0m\u001b[1;33m.\u001b[0m\u001b[0mlistdir\u001b[0m\u001b[1;33m(\u001b[0m\u001b[0mpath\u001b[0m\u001b[1;33m)\u001b[0m\u001b[1;33m\u001b[0m\u001b[0m\n\u001b[1;32m----> 4\u001b[1;33m \u001b[1;32mfor\u001b[0m \u001b[0mentry\u001b[0m \u001b[1;32min\u001b[0m \u001b[0mentries\u001b[0m\u001b[1;33m[\u001b[0m\u001b[1;33m:\u001b[0m\u001b[0mNUM_FILE\u001b[0m\u001b[1;33m]\u001b[0m\u001b[1;33m:\u001b[0m\u001b[1;33m\u001b[0m\u001b[0m\n\u001b[0m\u001b[0;32m      5\u001b[0m     \u001b[0mevent_name\u001b[0m \u001b[1;33m=\u001b[0m \u001b[0mentry\u001b[0m\u001b[1;33m.\u001b[0m\u001b[0mreplace\u001b[0m\u001b[1;33m(\u001b[0m\u001b[1;34m\".xls\"\u001b[0m\u001b[1;33m,\u001b[0m\u001b[1;34m\"\"\u001b[0m\u001b[1;33m)\u001b[0m\u001b[1;33m\u001b[0m\u001b[0m\n\u001b[0;32m      6\u001b[0m     \u001b[0mxls_file\u001b[0m \u001b[1;33m=\u001b[0m \u001b[0mos\u001b[0m\u001b[1;33m.\u001b[0m\u001b[0mpath\u001b[0m\u001b[1;33m.\u001b[0m\u001b[0mjoin\u001b[0m\u001b[1;33m(\u001b[0m\u001b[0mpath\u001b[0m\u001b[1;33m,\u001b[0m \u001b[0mentry\u001b[0m\u001b[1;33m)\u001b[0m\u001b[1;33m\u001b[0m\u001b[0m\n",
      "\u001b[1;31mNameError\u001b[0m: name 'NUM_FILE' is not defined"
     ]
    }
   ],
   "source": [
    "ASX_STRAT_after = pd.DataFrame()\n",
    "\n",
    "entries = os.listdir(path)\n",
    "for entry in entries[:NUM_FILE]:\n",
    "    event_name = entry.replace(\".xls\",\"\")\n",
    "    xls_file = os.path.join(path, entry)\n",
    "    df = pd.read_excel(xls_file).assign(event_name = lambda x: event_name, dtm = lambda x: x['maturity_date'] - x['entry_date'])\n",
    "    ASX_STRAT_after = ASX_STRAT_after.append(df, ignore_index = True)\n"
   ]
  },
  {
   "cell_type": "code",
   "execution_count": null,
   "metadata": {},
   "outputs": [],
   "source": [
    "df0 = ASX_STRAT_after.drop([\"trade_num\", \"entry_gamma\"], axis = 1)"
   ]
  },
  {
   "cell_type": "code",
   "execution_count": null,
   "metadata": {
    "scrolled": true
   },
   "outputs": [],
   "source": [
    "df0['Average_Daily_Return_pct'][df0['Average_Daily_Return_pct'] > 0 ].count() / df0['Average_Daily_Return_pct'].count() "
   ]
  },
  {
   "cell_type": "code",
   "execution_count": null,
   "metadata": {},
   "outputs": [],
   "source": [
    "df0[df0['Average_Daily_Return_pct'] <= 0 ]"
   ]
  },
  {
   "cell_type": "code",
   "execution_count": null,
   "metadata": {},
   "outputs": [],
   "source": [
    "df0[df0['Average_Daily_Return_pct'] > 0 ]"
   ]
  },
  {
   "cell_type": "code",
   "execution_count": null,
   "metadata": {},
   "outputs": [],
   "source": [
    "mean_above40 = df0[df0['dtm'].dt.days >= 40 ]['Average_Daily_Return_pct'].mean()\n",
    "std_above40 = df0[df0['dtm'].dt.days >= 40 ]['Average_Daily_Return_pct'].std()\n",
    "count_above40 = df0[df0['dtm'].dt.days >= 40 ]['Average_Daily_Return_pct'].count()\n",
    "\n",
    "print(mean_above40)\n",
    "print(std_above40)\n",
    "print(count_above40)\n",
    "print(\"Sharpe ratio for dtm >= 40 days: \", mean_above40 / std_above40 / np.sqrt(count_above40))\n"
   ]
  },
  {
   "cell_type": "code",
   "execution_count": null,
   "metadata": {},
   "outputs": [],
   "source": [
    "mean_below40 = df0[df0['dtm'].dt.days < 40 ]['Average_Daily_Return_pct'].mean()\n",
    "std_below40 = df0[df0['dtm'].dt.days < 40 ]['Average_Daily_Return_pct'].std()\n",
    "count_below40 = df0[df0['dtm'].dt.days < 40 ]['Average_Daily_Return_pct'].count()\n",
    "\n",
    "print(mean_below40)\n",
    "print(std_below40)\n",
    "print(count_below40)\n",
    "print(\"Sharpe ratio for dtm < 40 days: \", mean_below40 / std_below40 / np.sqrt(count_below40))\n"
   ]
  },
  {
   "cell_type": "markdown",
   "metadata": {},
   "source": [
    "## NKY Market"
   ]
  },
  {
   "cell_type": "code",
   "execution_count": null,
   "metadata": {},
   "outputs": [],
   "source": [
    "STRAT = \"long_straddle\"\n",
    "MARKET = \"NKY\"\n",
    "\n",
    "\n",
    "path = os.path.join(infp ,STRAT, MARKET)\n",
    "\n",
    "NKY_STRAT_after = pd.DataFrame()\n",
    "\n",
    "entries = os.listdir(path)\n",
    "for entry in entries[:NUM_FILE]:\n",
    "    event_name = entry.replace(\".xls\",\"\")\n",
    "    xls_file = os.path.join(path, entry)\n",
    "    df = pd.read_excel(xls_file).assign(event_name = lambda x: event_name, dtm = lambda x: x['maturity_date'] - x['entry_date'])\n",
    "    NKY_STRAT_after = NKY_STRAT_after.append(df, ignore_index = True)\n",
    "df0 = NKY_STRAT_after.drop([\"trade_num\", \"entry_gamma\"], axis = 1)"
   ]
  },
  {
   "cell_type": "code",
   "execution_count": null,
   "metadata": {},
   "outputs": [],
   "source": [
    "df0['Average_Daily_Return_pct'][df0['Average_Daily_Return_pct'] > 0 ].count() / df0['Average_Daily_Return_pct'].count() "
   ]
  },
  {
   "cell_type": "code",
   "execution_count": null,
   "metadata": {},
   "outputs": [],
   "source": [
    "df0[df0['Average_Daily_Return_pct'] <= 0 ]"
   ]
  },
  {
   "cell_type": "code",
   "execution_count": null,
   "metadata": {
    "scrolled": false
   },
   "outputs": [],
   "source": [
    "df0[df0['Average_Daily_Return_pct'] > 0 ]"
   ]
  },
  {
   "cell_type": "code",
   "execution_count": null,
   "metadata": {},
   "outputs": [],
   "source": [
    "mean_above40 = df0[df0['dtm'].dt.days >= 40 ]['Average_Daily_Return_pct'].mean()\n",
    "std_above40 = df0[df0['dtm'].dt.days >= 40 ]['Average_Daily_Return_pct'].std()\n",
    "count_above40 = df0[df0['dtm'].dt.days >= 40 ]['Average_Daily_Return_pct'].count()\n",
    "\n",
    "print(mean_above40)\n",
    "print(std_above40)\n",
    "print(count_above40)\n",
    "print(\"Sharpe ratio for dtm >= 40 days: \", mean_above40 / std_above40 / np.sqrt(count_above40))\n"
   ]
  },
  {
   "cell_type": "code",
   "execution_count": null,
   "metadata": {},
   "outputs": [],
   "source": [
    "mean_below40 = df0[df0['dtm'].dt.days < 40 ]['Average_Daily_Return_pct'].mean()\n",
    "std_below40 = df0[df0['dtm'].dt.days < 40 ]['Average_Daily_Return_pct'].std()\n",
    "count_below40 = df0[df0['dtm'].dt.days < 40 ]['Average_Daily_Return_pct'].count()\n",
    "\n",
    "print(mean_below40)\n",
    "print(std_below40)\n",
    "print(count_below40)\n",
    "print(\"Sharpe ratio for dtm < 40 days: \", mean_below40 / std_below40 / np.sqrt(count_below40))\n"
   ]
  },
  {
   "cell_type": "code",
   "execution_count": null,
   "metadata": {},
   "outputs": [],
   "source": []
  },
  {
   "cell_type": "code",
   "execution_count": null,
   "metadata": {},
   "outputs": [],
   "source": []
  },
  {
   "cell_type": "code",
   "execution_count": null,
   "metadata": {},
   "outputs": [],
   "source": []
  },
  {
   "cell_type": "code",
   "execution_count": null,
   "metadata": {},
   "outputs": [],
   "source": []
  },
  {
   "cell_type": "code",
   "execution_count": null,
   "metadata": {},
   "outputs": [],
   "source": []
  },
  {
   "cell_type": "code",
   "execution_count": null,
   "metadata": {},
   "outputs": [],
   "source": []
  },
  {
   "cell_type": "code",
   "execution_count": null,
   "metadata": {},
   "outputs": [],
   "source": []
  },
  {
   "cell_type": "code",
   "execution_count": null,
   "metadata": {},
   "outputs": [],
   "source": []
  },
  {
   "cell_type": "code",
   "execution_count": null,
   "metadata": {},
   "outputs": [],
   "source": []
  },
  {
   "cell_type": "code",
   "execution_count": null,
   "metadata": {},
   "outputs": [],
   "source": []
  }
 ],
 "metadata": {
  "kernelspec": {
   "display_name": "Python 3",
   "language": "python",
   "name": "python3"
  },
  "language_info": {
   "codemirror_mode": {
    "name": "ipython",
    "version": 3
   },
   "file_extension": ".py",
   "mimetype": "text/x-python",
   "name": "python",
   "nbconvert_exporter": "python",
   "pygments_lexer": "ipython3",
   "version": "3.6.6"
  }
 },
 "nbformat": 4,
 "nbformat_minor": 2
}
