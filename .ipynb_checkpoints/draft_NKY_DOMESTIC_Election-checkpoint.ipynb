{
 "cells": [
  {
   "cell_type": "code",
   "execution_count": 1,
   "metadata": {},
   "outputs": [
    {
     "data": {
      "text/html": [
       "<style>.container { width:100% !important; }</style>"
      ],
      "text/plain": [
       "<IPython.core.display.HTML object>"
      ]
     },
     "metadata": {},
     "output_type": "display_data"
    },
    {
     "data": {
      "text/plain": [
       "PureWindowsPath('C:/Users/rex.wong/Documents/Project2_options_1213/Project2_options')"
      ]
     },
     "execution_count": 1,
     "metadata": {},
     "output_type": "execute_result"
    }
   ],
   "source": [
    "import os\n",
    "from datetime import datetime\n",
    "import pandas as pd\n",
    "\n",
    "from optionStrategies import long_call, short_call, long_call_long_put, long_call_short_put\n",
    "from data_import import get_data\n",
    "from tradeStat import results\n",
    "from pathlib import PurePath, Path\n",
    "\n",
    "pp = PurePath(Path.cwd()).parts[:]\n",
    "pdir = PurePath(*pp)\n",
    "infp=PurePath(pdir)\n",
    "\n",
    "from IPython.core.display import display, HTML\n",
    "display(HTML(\"<style>.container { width:100% !important; }</style>\"))\n",
    "infp"
   ]
  },
  {
   "cell_type": "code",
   "execution_count": 2,
   "metadata": {},
   "outputs": [],
   "source": [
    "MARKET = \"NKY\"\n",
    "EVENT = \"DOMESTIC_ELECTION\" \n",
    "NUM_FILE = 1\n",
    "RETURN_THRE = 1\n",
    "\n",
    "# after the result\n",
    "path_after = os.path.join(infp , \"Result\" , MARKET , MARKET +\"_\" + EVENT , \"after\")"
   ]
  },
  {
   "cell_type": "code",
   "execution_count": 3,
   "metadata": {},
   "outputs": [],
   "source": [
    "entries = os.listdir(path_after)\n",
    "NKY_FED_after = pd.DataFrame()\n",
    "\n",
    "for entry in entries[:NUM_FILE]:\n",
    "    xls_file = os.path.join(path_after, entry)\n",
    "    df = pd.read_excel(xls_file)\n",
    "    NKY_FED_after = NKY_FED_after.append(df, ignore_index = True)\n",
    "\n",
    "df_after = NKY_FED_after.drop([\"trade_num\", \"entry_gamma\",\"total_t_cost\"], axis = 1)"
   ]
  },
  {
   "cell_type": "code",
   "execution_count": 4,
   "metadata": {},
   "outputs": [
    {
     "data": {
      "text/html": [
       "<div>\n",
       "<style scoped>\n",
       "    .dataframe tbody tr th:only-of-type {\n",
       "        vertical-align: middle;\n",
       "    }\n",
       "\n",
       "    .dataframe tbody tr th {\n",
       "        vertical-align: top;\n",
       "    }\n",
       "\n",
       "    .dataframe thead th {\n",
       "        text-align: right;\n",
       "    }\n",
       "</style>\n",
       "<table border=\"1\" class=\"dataframe\">\n",
       "  <thead>\n",
       "    <tr style=\"text-align: right;\">\n",
       "      <th></th>\n",
       "      <th>entry_date</th>\n",
       "      <th>exit_date</th>\n",
       "      <th>maturity_date</th>\n",
       "      <th>entry_delta</th>\n",
       "      <th>entry_vega</th>\n",
       "      <th>entry_rho</th>\n",
       "      <th>entry_theta</th>\n",
       "      <th>entry_price</th>\n",
       "      <th>exit_price</th>\n",
       "      <th>holding_period</th>\n",
       "      <th>num_contracts</th>\n",
       "      <th>Actual_Profit</th>\n",
       "      <th>Average_Day_Profit</th>\n",
       "      <th>Total_Return_pct</th>\n",
       "      <th>Average_Daily_Return_pct</th>\n",
       "    </tr>\n",
       "  </thead>\n",
       "  <tbody>\n",
       "    <tr>\n",
       "      <th>4</th>\n",
       "      <td>2017-10-18</td>\n",
       "      <td>2017-10-23</td>\n",
       "      <td>2017-11-10</td>\n",
       "      <td>-0.03</td>\n",
       "      <td>42.71</td>\n",
       "      <td>-0.75</td>\n",
       "      <td>-11.41</td>\n",
       "      <td>-52500</td>\n",
       "      <td>58000</td>\n",
       "      <td>5</td>\n",
       "      <td>57</td>\n",
       "      <td>313500</td>\n",
       "      <td>62700.0</td>\n",
       "      <td>10.450000</td>\n",
       "      <td>2.09</td>\n",
       "    </tr>\n",
       "    <tr>\n",
       "      <th>6</th>\n",
       "      <td>2017-10-19</td>\n",
       "      <td>2017-10-23</td>\n",
       "      <td>2017-11-10</td>\n",
       "      <td>0.01</td>\n",
       "      <td>41.80</td>\n",
       "      <td>-0.24</td>\n",
       "      <td>-12.33</td>\n",
       "      <td>-48500</td>\n",
       "      <td>51000</td>\n",
       "      <td>4</td>\n",
       "      <td>62</td>\n",
       "      <td>155000</td>\n",
       "      <td>38750.0</td>\n",
       "      <td>5.166667</td>\n",
       "      <td>1.29</td>\n",
       "    </tr>\n",
       "  </tbody>\n",
       "</table>\n",
       "</div>"
      ],
      "text/plain": [
       "  entry_date  exit_date maturity_date  entry_delta  entry_vega  entry_rho  entry_theta  entry_price  exit_price  holding_period  num_contracts  Actual_Profit  Average_Day_Profit  Total_Return_pct  Average_Daily_Return_pct\n",
       "4 2017-10-18 2017-10-23    2017-11-10        -0.03       42.71      -0.75       -11.41       -52500       58000               5             57         313500             62700.0         10.450000                      2.09\n",
       "6 2017-10-19 2017-10-23    2017-11-10         0.01       41.80      -0.24       -12.33       -48500       51000               4             62         155000             38750.0          5.166667                      1.29"
      ]
     },
     "execution_count": 4,
     "metadata": {},
     "output_type": "execute_result"
    }
   ],
   "source": [
    "df_after[df_after['Average_Daily_Return_pct'] > RETURN_THRE]"
   ]
  },
  {
   "cell_type": "code",
   "execution_count": 5,
   "metadata": {},
   "outputs": [
    {
     "data": {
      "text/html": [
       "<div>\n",
       "<style scoped>\n",
       "    .dataframe tbody tr th:only-of-type {\n",
       "        vertical-align: middle;\n",
       "    }\n",
       "\n",
       "    .dataframe tbody tr th {\n",
       "        vertical-align: top;\n",
       "    }\n",
       "\n",
       "    .dataframe thead th {\n",
       "        text-align: right;\n",
       "    }\n",
       "</style>\n",
       "<table border=\"1\" class=\"dataframe\">\n",
       "  <thead>\n",
       "    <tr style=\"text-align: right;\">\n",
       "      <th></th>\n",
       "      <th>entry_date</th>\n",
       "      <th>exit_date</th>\n",
       "      <th>maturity_date</th>\n",
       "      <th>entry_delta</th>\n",
       "      <th>entry_vega</th>\n",
       "      <th>entry_rho</th>\n",
       "      <th>entry_theta</th>\n",
       "      <th>entry_price</th>\n",
       "      <th>exit_price</th>\n",
       "      <th>holding_period</th>\n",
       "      <th>num_contracts</th>\n",
       "      <th>Actual_Profit</th>\n",
       "      <th>Average_Day_Profit</th>\n",
       "      <th>Total_Return_pct</th>\n",
       "      <th>Average_Daily_Return_pct</th>\n",
       "    </tr>\n",
       "  </thead>\n",
       "  <tbody>\n",
       "    <tr>\n",
       "      <th>3</th>\n",
       "      <td>2017-10-17</td>\n",
       "      <td>2017-10-23</td>\n",
       "      <td>2017-12-08</td>\n",
       "      <td>-0.04</td>\n",
       "      <td>63.99</td>\n",
       "      <td>-2.63</td>\n",
       "      <td>-8.68</td>\n",
       "      <td>-90500</td>\n",
       "      <td>85000</td>\n",
       "      <td>6</td>\n",
       "      <td>33</td>\n",
       "      <td>-181500</td>\n",
       "      <td>-30250.00</td>\n",
       "      <td>-6.050000</td>\n",
       "      <td>-1.01</td>\n",
       "    </tr>\n",
       "    <tr>\n",
       "      <th>8</th>\n",
       "      <td>2017-10-20</td>\n",
       "      <td>2017-10-23</td>\n",
       "      <td>2017-11-10</td>\n",
       "      <td>-0.06</td>\n",
       "      <td>40.91</td>\n",
       "      <td>-1.06</td>\n",
       "      <td>-13.40</td>\n",
       "      <td>-56500</td>\n",
       "      <td>54000</td>\n",
       "      <td>3</td>\n",
       "      <td>53</td>\n",
       "      <td>-132500</td>\n",
       "      <td>-44166.67</td>\n",
       "      <td>-4.416667</td>\n",
       "      <td>-1.47</td>\n",
       "    </tr>\n",
       "  </tbody>\n",
       "</table>\n",
       "</div>"
      ],
      "text/plain": [
       "  entry_date  exit_date maturity_date  entry_delta  entry_vega  entry_rho  entry_theta  entry_price  exit_price  holding_period  num_contracts  Actual_Profit  Average_Day_Profit  Total_Return_pct  Average_Daily_Return_pct\n",
       "3 2017-10-17 2017-10-23    2017-12-08        -0.04       63.99      -2.63        -8.68       -90500       85000               6             33        -181500           -30250.00         -6.050000                     -1.01\n",
       "8 2017-10-20 2017-10-23    2017-11-10        -0.06       40.91      -1.06       -13.40       -56500       54000               3             53        -132500           -44166.67         -4.416667                     -1.47"
      ]
     },
     "execution_count": 5,
     "metadata": {},
     "output_type": "execute_result"
    }
   ],
   "source": [
    "df_after[df_after['Average_Daily_Return_pct'] < -RETURN_THRE]"
   ]
  },
  {
   "cell_type": "code",
   "execution_count": 6,
   "metadata": {},
   "outputs": [
    {
     "data": {
      "text/html": [
       "<div>\n",
       "<style scoped>\n",
       "    .dataframe tbody tr th:only-of-type {\n",
       "        vertical-align: middle;\n",
       "    }\n",
       "\n",
       "    .dataframe tbody tr th {\n",
       "        vertical-align: top;\n",
       "    }\n",
       "\n",
       "    .dataframe thead th {\n",
       "        text-align: right;\n",
       "    }\n",
       "</style>\n",
       "<table border=\"1\" class=\"dataframe\">\n",
       "  <thead>\n",
       "    <tr style=\"text-align: right;\">\n",
       "      <th></th>\n",
       "      <th>entry_date</th>\n",
       "      <th>exit_date</th>\n",
       "      <th>maturity_date</th>\n",
       "      <th>entry_delta</th>\n",
       "      <th>entry_vega</th>\n",
       "      <th>entry_rho</th>\n",
       "      <th>entry_theta</th>\n",
       "      <th>entry_price</th>\n",
       "      <th>exit_price</th>\n",
       "      <th>holding_period</th>\n",
       "      <th>num_contracts</th>\n",
       "      <th>Actual_Profit</th>\n",
       "      <th>Average_Day_Profit</th>\n",
       "      <th>Total_Return_pct</th>\n",
       "      <th>Average_Daily_Return_pct</th>\n",
       "    </tr>\n",
       "  </thead>\n",
       "  <tbody>\n",
       "    <tr>\n",
       "      <th>8</th>\n",
       "      <td>2017-10-20</td>\n",
       "      <td>2017-10-23</td>\n",
       "      <td>2017-11-10</td>\n",
       "      <td>-0.06</td>\n",
       "      <td>40.91</td>\n",
       "      <td>-1.06</td>\n",
       "      <td>-13.4</td>\n",
       "      <td>-56500</td>\n",
       "      <td>54000</td>\n",
       "      <td>3</td>\n",
       "      <td>53</td>\n",
       "      <td>-132500</td>\n",
       "      <td>-44166.67</td>\n",
       "      <td>-4.416667</td>\n",
       "      <td>-1.47</td>\n",
       "    </tr>\n",
       "  </tbody>\n",
       "</table>\n",
       "</div>"
      ],
      "text/plain": [
       "  entry_date  exit_date maturity_date  entry_delta  entry_vega  entry_rho  entry_theta  entry_price  exit_price  holding_period  num_contracts  Actual_Profit  Average_Day_Profit  Total_Return_pct  Average_Daily_Return_pct\n",
       "8 2017-10-20 2017-10-23    2017-11-10        -0.06       40.91      -1.06        -13.4       -56500       54000               3             53        -132500           -44166.67         -4.416667                     -1.47"
      ]
     },
     "execution_count": 6,
     "metadata": {},
     "output_type": "execute_result"
    }
   ],
   "source": [
    "# large return, short hoding period\n",
    "df_after[(abs(df_after['Average_Daily_Return_pct']) > RETURN_THRE) &  (df_after['holding_period'] < 4)]"
   ]
  },
  {
   "cell_type": "code",
   "execution_count": 7,
   "metadata": {},
   "outputs": [
    {
     "data": {
      "text/plain": [
       "0.77"
      ]
     },
     "execution_count": 7,
     "metadata": {},
     "output_type": "execute_result"
    }
   ],
   "source": [
    "abs(df_after['Average_Daily_Return_pct']).mean()"
   ]
  },
  {
   "cell_type": "code",
   "execution_count": 8,
   "metadata": {},
   "outputs": [
    {
     "name": "stdout",
     "output_type": "stream",
     "text": [
      "Exit after the event - mean: -1.05\n",
      "Exit after the event - std: 0.5939696961966999\n",
      "Exit after the event - Sharpe: -0.883883476483\n",
      "Exit after the event - abs mean: 0.77\n"
     ]
    }
   ],
   "source": [
    "import numpy as np\n",
    "\n",
    "print(\"Exit after the event - mean:\", df_after[(df_after['holding_period'] < 4)]['Average_Daily_Return_pct'].mean())\n",
    "print(\"Exit after the event - std:\", df_after[(df_after['holding_period'] < 4)]['Average_Daily_Return_pct'].std())\n",
    "print(\"Exit after the event - Sharpe:\", df_after[(df_after['holding_period'] < 4)]['Average_Daily_Return_pct'].mean()/df_after[(df_after['holding_period'] < 4)]['Average_Daily_Return_pct'].std()/np.sqrt(df_after[(df_after['holding_period'] < 4)]['Average_Daily_Return_pct'].count())\n",
    "\n",
    "\n",
    "\n",
    "print(\"Exit before the event - mean:\", df_before[(df_before['holding_period'] < 4)]['Average_Daily_Return_pct'].mean())\n",
    "print(\"Exit before the event - std:\", df_before[(df_before['holding_period'] < 4)]['Average_Daily_Return_pct'].std())\n",
    "print(\"Exit before the event - Sharpe:\", df_before[(df_before['holding_period'] < 4)]['Average_Daily_Return_pct'].mean()/df_before[(df_before['holding_period'] < 4)]['Average_Daily_Return_pct'].std()/np.sqrt(df_after[(df_after['holding_period'] < 4)]['Average_Daily_Return_pct'].count())\n",
    "      \n",
    "print(\"Exit after the event - abs mean:\", abs(df_after['Average_Daily_Return_pct']).mean())\n",
    "print(\"Exit before the event - abs mean:\", abs(df_before['Average_Daily_Return_pct']).mean())"
   ]
  }
 ],
 "metadata": {
  "kernelspec": {
   "display_name": "Python 3",
   "language": "python",
   "name": "python3"
  },
  "language_info": {
   "codemirror_mode": {
    "name": "ipython",
    "version": 3
   },
   "file_extension": ".py",
   "mimetype": "text/x-python",
   "name": "python",
   "nbconvert_exporter": "python",
   "pygments_lexer": "ipython3",
   "version": "3.6.6"
  }
 },
 "nbformat": 4,
 "nbformat_minor": 2
}
