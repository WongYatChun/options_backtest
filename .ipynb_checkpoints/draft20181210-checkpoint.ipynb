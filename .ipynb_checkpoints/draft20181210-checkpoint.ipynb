{
 "cells": [
  {
   "cell_type": "code",
   "execution_count": 1,
   "metadata": {},
   "outputs": [
    {
     "data": {
      "text/html": [
       "<style>.container { width:100% !important; }</style>"
      ],
      "text/plain": [
       "<IPython.core.display.HTML object>"
      ]
     },
     "metadata": {},
     "output_type": "display_data"
    }
   ],
   "source": [
    "import os\n",
    "from datetime import datetime\n",
    "import pandas as pd\n",
    "\n",
    "from optionStrategies import long_call, short_call, long_call_long_put, long_call_short_put\n",
    "from data_import import get_data\n",
    "from tradeStat import results\n",
    "from pathlib import PurePath, Path\n",
    "\n",
    "pp = PurePath(Path.cwd()).parts[:]\n",
    "pdir = PurePath(*pp)\n",
    "infp=PurePath(pdir)\n",
    "\n",
    "from IPython.core.display import display, HTML\n",
    "display(HTML(\"<style>.container { width:100% !important; }</style>\"))\n",
    "\n",
    "SPX_FILE_STRUCT = (\n",
    "        (\"date\", 0),\n",
    "        (\"bid\", 1),\n",
    "        (\"ask\", 2),\n",
    "        ('last',3),\n",
    "        (\"call_put\", 5),\n",
    "        (\"maturity_date\", 6),\n",
    "        (\"strike\", 7),\n",
    "        (\"underlying_symbol\", 8),\n",
    "        (\"underlying_price\", 9),\n",
    "        (\"implied_vol\", 11),\n",
    "        (\"delta\", 12),\n",
    "        (\"gamma\", 13),\n",
    "        (\"vega\", 14), \n",
    "        (\"theta\", 15),\n",
    "        ('event_day', 18),\n",
    "        ('day_to_event', 19),\n",
    "    \n",
    "    )\n",
    "\n",
    "def run_strategy(data):\n",
    "    # define the entry and exit filters to use for this strategy, full list of\n",
    "    # filters will be listed in the documentation (WIP).\n",
    "    filters = {\n",
    "        \"start_date\": {\"value\": datetime(2012, 1, 1), \"cond\": \"greater\"}, # cond has no effect \n",
    "        \"end_date\": {\"value\": datetime(2018, 2, 28), \"cond\": \"less_or_equal\"}, # cond has no effect\n",
    "        \"entry_dtm\": {\"value\": 28, \"cond\": \"greater_or_equal\"},\n",
    "        \"entry_day_to_event\": {\"value\": 0, \"cond\": \"greater\"},\n",
    "        \"day_to_event\": {\"value\": 7, \"cond\": \"less_or_equal\"},\n",
    "        \"leg1_delta\": {\"value\": 0.5, \"cond\": \"nearest\"},\n",
    "        \"leg2_delta\": {\"value\": 0.5, \"cond\": \"nearest\"},\n",
    "        \"contract_size\": 100,\n",
    "#         \"exit_day_to_event\": {\"value\": 0, \"cond\": \"nearest\"},\n",
    "         \"exit_dtm\": {\"value\": 14, \"cond\": \"nearest\"},\n",
    "    }\n",
    "    # set the start and end dates for the backtest, the dates are inclusive,\n",
    "    # start and end dates are python datetime objects.\n",
    "    # strategy functions will return a dataframe containing all the simulated trades\n",
    "    return long_call_long_put(data, filters, mode = \"mid_price\")\n",
    "\n",
    "def store_and_get_data(file_name):\n",
    "    # absolute file path to our input file\n",
    "    # curr_file = os.path.abspath(os.path.dirname(__file__))\n",
    "    file = os.path.join(infp, \"data\", f\"{file_name}.pkl\")\n",
    "    \n",
    "    # check if we have a pickle store\n",
    "    if os.path.isfile(file):\n",
    "        print(\"pickle file found, retrieving...\")\n",
    "        return pd.read_pickle(file)\n",
    "    else:\n",
    "        print(\"no picked file found, retrieving csv data...\")\n",
    "\n",
    "        csv_file = os.path.join(infp, \"data\", f\"{file_name}.csv\")\n",
    "        data = get_data(csv_file, SPX_FILE_STRUCT, preview = True)\n",
    "\n",
    "        print(\"storing to pickle file...\")\n",
    "        pd.to_pickle(data, file)\n",
    "        return data"
   ]
  },
  {
   "cell_type": "code",
   "execution_count": 2,
   "metadata": {
    "scrolled": false
   },
   "outputs": [
    {
     "name": "stdout",
     "output_type": "stream",
     "text": [
      "no picked file found, retrieving csv data...\n",
      "        date   bid   ask  last call_put maturity_date  strike underlying_symbol  underlying_price  implied_vol  delta  gamma  vega  theta   event_day  day_to_event  dtm\n",
      "0 2016-04-22  53.0  62.0  58.4        p    2016-07-21    4800              AS51           5236.37         0.21  -0.19    0.0  6.98  -0.81  2016-06-23            62   90\n",
      "1 2016-04-26  57.0  64.0  61.6        p    2016-07-21    4800              AS51           5220.64         0.21  -0.19    0.0  6.98  -0.87  2016-06-23            58   86\n",
      "2 2016-04-27  66.0  74.0  70.6        p    2016-07-21    4800              AS51           5187.71         0.22  -0.21    0.0  7.31  -0.94  2016-06-23            57   85\n",
      "3 2016-04-28  55.0  63.0  58.9        p    2016-07-21    4800              AS51           5225.43         0.21  -0.19    0.0  6.80  -0.87  2016-06-23            56   84\n",
      "4 2016-04-29  50.0  58.0  51.9        p    2016-07-21    4800              AS51           5252.22         0.21  -0.17    0.0  6.42  -0.82  2016-06-23            55   83\n",
      "Is is what you want? [y/n]: y\n",
      "storing to pickle file...\n",
      "61     -27\n",
      "123    -27\n",
      "168    -55\n",
      "352    -27\n",
      "414    -27\n",
      "460    -55\n",
      "522    -27\n",
      "584    -27\n",
      "646    -27\n",
      "708    -27\n",
      "770    -27\n",
      "832    -27\n",
      "882    -55\n",
      "932    -55\n",
      "982    -55\n",
      "1107   -55\n",
      "1170   -55\n",
      "Name: day_to_event_exit, dtype: int64\n"
     ]
    },
    {
     "name": "stderr",
     "output_type": "stream",
     "text": [
      "/home/Rex/Documents/Project2_options/tradeStat.py:24: RuntimeWarning: invalid value encountered in long_scalars\n",
      "  \"win_pct\": round(wins / df.size, 2),\n",
      "/home/Rex/Documents/Project2_options/tradeStat.py:26: RuntimeWarning: invalid value encountered in long_scalars\n",
      "  \"loss_pct\": round(losses / df.size, 2),\n"
     ]
    }
   ],
   "source": [
    "r = store_and_get_data(\"(ASX) 23 JUN 2016 BREXIT ELECTION\").pipe(run_strategy).pipe(results)"
   ]
  },
  {
   "cell_type": "code",
   "execution_count": 3,
   "metadata": {},
   "outputs": [
    {
     "data": {
      "text/plain": [
       "{'Total Profit': 0.0,\n",
       " 'Total Win Count': 0,\n",
       " 'Total Win Percent': nan,\n",
       " 'Total Loss Count': 0,\n",
       " 'Total Loss Percent': nan,\n",
       " 'Total Trades': nan}"
      ]
     },
     "execution_count": 3,
     "metadata": {},
     "output_type": "execute_result"
    }
   ],
   "source": [
    "r[0]"
   ]
  },
  {
   "cell_type": "code",
   "execution_count": 4,
   "metadata": {},
   "outputs": [
    {
     "data": {
      "text/html": [
       "<div>\n",
       "<style scoped>\n",
       "    .dataframe tbody tr th:only-of-type {\n",
       "        vertical-align: middle;\n",
       "    }\n",
       "\n",
       "    .dataframe tbody tr th {\n",
       "        vertical-align: top;\n",
       "    }\n",
       "\n",
       "    .dataframe thead th {\n",
       "        text-align: right;\n",
       "    }\n",
       "</style>\n",
       "<table border=\"1\" class=\"dataframe\">\n",
       "  <thead>\n",
       "    <tr style=\"text-align: right;\">\n",
       "      <th></th>\n",
       "      <th>entry_date</th>\n",
       "      <th>exit_date</th>\n",
       "      <th>maturity_date</th>\n",
       "      <th>underlying_symbol</th>\n",
       "      <th>dtm</th>\n",
       "      <th>ratio</th>\n",
       "      <th>contracts</th>\n",
       "      <th>call_put</th>\n",
       "      <th>strike</th>\n",
       "      <th>entry_delta</th>\n",
       "      <th>entry_underlying_price</th>\n",
       "      <th>exit_underlying_price</th>\n",
       "      <th>entry_opt_price</th>\n",
       "      <th>exit_opt_price</th>\n",
       "      <th>entry_price</th>\n",
       "      <th>exit_price</th>\n",
       "      <th>cash_flow</th>\n",
       "    </tr>\n",
       "    <tr>\n",
       "      <th>trade_num</th>\n",
       "      <th></th>\n",
       "      <th></th>\n",
       "      <th></th>\n",
       "      <th></th>\n",
       "      <th></th>\n",
       "      <th></th>\n",
       "      <th></th>\n",
       "      <th></th>\n",
       "      <th></th>\n",
       "      <th></th>\n",
       "      <th></th>\n",
       "      <th></th>\n",
       "      <th></th>\n",
       "      <th></th>\n",
       "      <th></th>\n",
       "      <th></th>\n",
       "      <th></th>\n",
       "    </tr>\n",
       "  </thead>\n",
       "  <tbody>\n",
       "  </tbody>\n",
       "</table>\n",
       "</div>"
      ],
      "text/plain": [
       "Empty DataFrame\n",
       "Columns: [entry_date, exit_date, maturity_date, underlying_symbol, dtm, ratio, contracts, call_put, strike, entry_delta, entry_underlying_price, exit_underlying_price, entry_opt_price, exit_opt_price, entry_price, exit_price, cash_flow]\n",
       "Index: []"
      ]
     },
     "execution_count": 4,
     "metadata": {},
     "output_type": "execute_result"
    }
   ],
   "source": [
    "r[1]"
   ]
  },
  {
   "cell_type": "code",
   "execution_count": 5,
   "metadata": {},
   "outputs": [
    {
     "data": {
      "text/html": [
       "<div>\n",
       "<style scoped>\n",
       "    .dataframe tbody tr th:only-of-type {\n",
       "        vertical-align: middle;\n",
       "    }\n",
       "\n",
       "    .dataframe tbody tr th {\n",
       "        vertical-align: top;\n",
       "    }\n",
       "\n",
       "    .dataframe thead th {\n",
       "        text-align: right;\n",
       "    }\n",
       "</style>\n",
       "<table border=\"1\" class=\"dataframe\">\n",
       "  <thead>\n",
       "    <tr style=\"text-align: right;\">\n",
       "      <th></th>\n",
       "      <th>entry_date</th>\n",
       "      <th>exit_date</th>\n",
       "      <th>entry_delta</th>\n",
       "      <th>entry_price</th>\n",
       "      <th>exit_price</th>\n",
       "      <th>holding_period</th>\n",
       "      <th>num_contracts</th>\n",
       "      <th>total_t_cost</th>\n",
       "      <th>Actual_Profit</th>\n",
       "    </tr>\n",
       "    <tr>\n",
       "      <th>trade_num</th>\n",
       "      <th></th>\n",
       "      <th></th>\n",
       "      <th></th>\n",
       "      <th></th>\n",
       "      <th></th>\n",
       "      <th></th>\n",
       "      <th></th>\n",
       "      <th></th>\n",
       "      <th></th>\n",
       "    </tr>\n",
       "  </thead>\n",
       "  <tbody>\n",
       "  </tbody>\n",
       "</table>\n",
       "</div>"
      ],
      "text/plain": [
       "Empty DataFrame\n",
       "Columns: [entry_date, exit_date, entry_delta, entry_price, exit_price, holding_period, num_contracts, total_t_cost, Actual_Profit]\n",
       "Index: []"
      ]
     },
     "execution_count": 5,
     "metadata": {},
     "output_type": "execute_result"
    }
   ],
   "source": [
    "r[2]"
   ]
  },
  {
   "cell_type": "code",
   "execution_count": null,
   "metadata": {},
   "outputs": [],
   "source": []
  }
 ],
 "metadata": {
  "kernelspec": {
   "display_name": "Python [default]",
   "language": "python",
   "name": "python3"
  },
  "language_info": {
   "codemirror_mode": {
    "name": "ipython",
    "version": 3
   },
   "file_extension": ".py",
   "mimetype": "text/x-python",
   "name": "python",
   "nbconvert_exporter": "python",
   "pygments_lexer": "ipython3",
   "version": "3.6.6"
  }
 },
 "nbformat": 4,
 "nbformat_minor": 2
}
