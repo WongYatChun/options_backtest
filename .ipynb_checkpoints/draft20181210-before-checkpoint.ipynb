{
 "cells": [
  {
   "cell_type": "code",
   "execution_count": 1,
   "metadata": {},
   "outputs": [
    {
     "data": {
      "text/html": [
       "<style>.container { width:100% !important; }</style>"
      ],
      "text/plain": [
       "<IPython.core.display.HTML object>"
      ]
     },
     "metadata": {},
     "output_type": "display_data"
    }
   ],
   "source": [
    "import os\n",
    "from datetime import datetime\n",
    "import pandas as pd\n",
    "\n",
    "from optionStrategies import long_call, short_call, long_call_long_put, long_call_short_put, short_call_short_put\n",
    "from data_import import get_data\n",
    "from tradeStat import results\n",
    "from pathlib import PurePath, Path\n",
    "\n",
    "pp = PurePath(Path.cwd()).parts[:]\n",
    "pdir = PurePath(*pp)\n",
    "infp=PurePath(pdir)\n",
    "\n",
    "from IPython.core.display import display, HTML\n",
    "display(HTML(\"<style>.container { width:100% !important; }</style>\"))\n",
    "\n",
    "\n",
    "SPX_FILE_STRUCT = (\n",
    "        (\"date\", 0),\n",
    "        (\"bid\", 1),\n",
    "        (\"ask\", 2),\n",
    "        ('last',3),\n",
    "        (\"call_put\", 5),\n",
    "        (\"maturity_date\", 6),\n",
    "        (\"strike\", 7),\n",
    "        (\"underlying_symbol\", 8),\n",
    "        (\"underlying_price\", 9),\n",
    "        (\"implied_vol\", 11),\n",
    "        (\"delta\", 12),\n",
    "        (\"gamma\", 13),\n",
    "        (\"vega\", 14), \n",
    "        (\"theta\", 15),\n",
    "        (\"rho\", 16),\n",
    "        ('event_day', 18),\n",
    "        ('day_to_event', 19),\n",
    "    \n",
    "    )\n",
    "\n",
    "# after event\n",
    "\n",
    "def run_strategy(data):\n",
    "    # define the entry and exit filters to use for this strategy, full list of\n",
    "    # filters will be listed in the documentation (WIP).\n",
    "    filters = {\n",
    "        \"start_date\": {\"value\": datetime(2012, 1, 1), \"cond\": \"greater\"}, # cond has no effect \n",
    "        \"end_date\": {\"value\": datetime(2018, 12, 28), \"cond\": \"less_or_equal\"}, # cond has no effect\n",
    "        \"entry_dtm\": {\"value\": 7, \"cond\": \"greater\"},\n",
    "        \"entry_day_to_event\": {\"value\": -1, \"cond\": \"greater\"}, # after -1, before, 0\n",
    "        \"day_to_event\": {\"value\": 3, \"cond\": \"less_or_equal\"},\n",
    "        \"leg1_delta\": {\"value\": 0.5, \"cond\": \"nearest\"},\n",
    "        \"leg2_delta\": {\"value\": 0.5, \"cond\": \"nearest\"},\n",
    "        \"contract_size\": 100,\n",
    "         \"exit_day_to_event\": {\"value\": -1, \"cond\": \"nearest\"}, # after -1, before, 0\n",
    "#          \"exit_dtm\": {\"value\": 21, \"cond\": \"nearest\"},\n",
    "    }\n",
    "    # set the start and end dates for the backtest, the dates are inclusive,\n",
    "    # start and end dates are python datetime objects.\n",
    "    # strategy functions will return a dataframe containing all the simulated trades\n",
    "    return long_call_long_put(data, filters, mode = \"mid_price\")\n",
    "#     return short_call_short_put(data, filters, mode = \"mid_price\")\n",
    "\n",
    "def store_and_get_data(file_name):\n",
    "    # absolute file path to our input file\n",
    "    # curr_file = os.path.abspath(os.path.dirname(__file__))\n",
    "    file = os.path.join(infp, \"data\", f\"{file_name}.pkl\")\n",
    "    \n",
    "    # check if we have a pickle store\n",
    "    if os.path.isfile(file):\n",
    "        print(\"pickle file found, retrieving...\")\n",
    "        return pd.read_pickle(file)\n",
    "    else:\n",
    "        print(\"no picked file found, retrieving csv data...\")\n",
    "\n",
    "        csv_file = os.path.join(infp, \"data\", f\"{file_name}.csv\")\n",
    "        data = get_data(csv_file, SPX_FILE_STRUCT, preview = True)\n",
    "\n",
    "        print(\"storing to pickle file...\")\n",
    "        pd.to_pickle(data, file)\n",
    "        return data\n",
    "    \n",
    "def mass_get_data(category = \"Monetary Policy\", event = \"Fed\", market = \"ASX\"):\n",
    "    # absolute file path to our input file\n",
    "    # curr_file = os.path.abspath(os.path.dirname(__file__))\n",
    "    path = os.path.join(infp , \"data\" , \"event_dateframe\" , category , event ,  market)\n",
    "    entries = os.listdir(path)\n",
    "\n",
    "    for entry in entries:\n",
    "        csv_file = os.path.join(path, entry)\n",
    "        data = get_data(csv_file, SPX_FILE_STRUCT, preview = False)\n",
    "        r = data.pipe(run_strategy).pipe(results)\n",
    "        r[1].to_excel(entry.replace(\".csv\",\"_details.xls\" ))\n",
    "        r[2].to_excel(entry.replace(\".csv\",\"_trade.xls\" ))"
   ]
  },
  {
   "cell_type": "code",
   "execution_count": 5,
   "metadata": {},
   "outputs": [],
   "source": [
    "# Long straddle\n",
    "mass_get_data(category = \"Geopolitical event\", event = \"Brexit\", market = \"ASX\")\n",
    "mass_get_data(category = \"Geopolitical event\", event = \"USA Election\", market = \"ASX\")\n",
    "mass_get_data(category = \"Geopolitical event\", event = \"Brexit\", market = \"NKY\")\n",
    "mass_get_data(category = \"Geopolitical event\", event = \"USA Election\", market = \"NKY\")\n",
    "mass_get_data(category = \"Monetary Policy\", event = \"ECB\", market = \"NKY\")\n",
    "\n",
    "\n",
    "# Short straddle\n",
    "# mass_get_data(category = \"Monetary Policy\", event = \"Fed\", market = \"ASX\")\n",
    "# mass_get_data(category = \"Monetary Policy\", event = \"ECB\", market = \"ASX\")\n",
    "# mass_get_data(category = \"Monetary Policy\", event = \"Fed\", market = \"NKY\")\n",
    "\n",
    "\n"
   ]
  },
  {
   "cell_type": "code",
   "execution_count": 3,
   "metadata": {},
   "outputs": [],
   "source": [
    "# mass_get_data(category = \"Geopolitical event\", event = \"USA Election\", market = \"NKY\")"
   ]
  },
  {
   "cell_type": "code",
   "execution_count": null,
   "metadata": {},
   "outputs": [],
   "source": []
  },
  {
   "cell_type": "code",
   "execution_count": null,
   "metadata": {},
   "outputs": [],
   "source": []
  }
 ],
 "metadata": {
  "kernelspec": {
   "display_name": "Python 3",
   "language": "python",
   "name": "python3"
  },
  "language_info": {
   "codemirror_mode": {
    "name": "ipython",
    "version": 3
   },
   "file_extension": ".py",
   "mimetype": "text/x-python",
   "name": "python",
   "nbconvert_exporter": "python",
   "pygments_lexer": "ipython3",
   "version": "3.6.6"
  }
 },
 "nbformat": 4,
 "nbformat_minor": 2
}
