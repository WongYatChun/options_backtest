{
 "cells": [
  {
   "cell_type": "code",
   "execution_count": 1,
   "metadata": {},
   "outputs": [
    {
     "data": {
      "text/html": [
       "<style>.container { width:100% !important; }</style>"
      ],
      "text/plain": [
       "<IPython.core.display.HTML object>"
      ]
     },
     "metadata": {},
     "output_type": "display_data"
    },
    {
     "data": {
      "text/plain": [
       "PureWindowsPath('C:/Users/rex.wong/Documents/Project2_options_1213/Project2_options')"
      ]
     },
     "execution_count": 1,
     "metadata": {},
     "output_type": "execute_result"
    }
   ],
   "source": [
    "import os\n",
    "from datetime import datetime\n",
    "import pandas as pd\n",
    "\n",
    "from optionStrategies import long_call, short_call, long_call_long_put, long_call_short_put\n",
    "from data_import import get_data\n",
    "from tradeStat import results\n",
    "from pathlib import PurePath, Path\n",
    "\n",
    "pp = PurePath(Path.cwd()).parts[:]\n",
    "pdir = PurePath(*pp)\n",
    "infp=PurePath(pdir)\n",
    "\n",
    "from IPython.core.display import display, HTML\n",
    "display(HTML(\"<style>.container { width:100% !important; }</style>\"))\n",
    "infp"
   ]
  },
  {
   "cell_type": "code",
   "execution_count": 2,
   "metadata": {},
   "outputs": [],
   "source": [
    "MARKET = \"ASX\"\n",
    "EVENT = \"BREXIT\" \n",
    "NUM_FILE = 1\n",
    "RETURN_THRE = 4\n",
    "\n",
    "# after the result\n",
    "path_after = os.path.join(infp , \"Result\" , MARKET , MARKET +\"_\" + EVENT , \"after\")"
   ]
  },
  {
   "cell_type": "code",
   "execution_count": 3,
   "metadata": {},
   "outputs": [],
   "source": [
    "entries = os.listdir(path_after)\n",
    "NKY_FED_after = pd.DataFrame()\n",
    "\n",
    "for entry in entries[:NUM_FILE]:\n",
    "    xls_file = os.path.join(path_after, entry)\n",
    "    df = pd.read_excel(xls_file)\n",
    "    NKY_FED_after = NKY_FED_after.append(df, ignore_index = True)\n",
    "\n",
    "df_after = NKY_FED_after.drop([\"trade_num\", \"entry_gamma\",\"total_t_cost\"], axis = 1)"
   ]
  },
  {
   "cell_type": "code",
   "execution_count": 4,
   "metadata": {},
   "outputs": [
    {
     "data": {
      "text/html": [
       "<div>\n",
       "<style scoped>\n",
       "    .dataframe tbody tr th:only-of-type {\n",
       "        vertical-align: middle;\n",
       "    }\n",
       "\n",
       "    .dataframe tbody tr th {\n",
       "        vertical-align: top;\n",
       "    }\n",
       "\n",
       "    .dataframe thead th {\n",
       "        text-align: right;\n",
       "    }\n",
       "</style>\n",
       "<table border=\"1\" class=\"dataframe\">\n",
       "  <thead>\n",
       "    <tr style=\"text-align: right;\">\n",
       "      <th></th>\n",
       "      <th>entry_date</th>\n",
       "      <th>exit_date</th>\n",
       "      <th>maturity_date</th>\n",
       "      <th>entry_delta</th>\n",
       "      <th>entry_vega</th>\n",
       "      <th>entry_rho</th>\n",
       "      <th>entry_theta</th>\n",
       "      <th>entry_price</th>\n",
       "      <th>exit_price</th>\n",
       "      <th>holding_period</th>\n",
       "      <th>num_contracts</th>\n",
       "      <th>Actual_Profit</th>\n",
       "      <th>Average_Day_Profit</th>\n",
       "      <th>Total_Return_pct</th>\n",
       "      <th>Average_Daily_Return_pct</th>\n",
       "    </tr>\n",
       "  </thead>\n",
       "  <tbody>\n",
       "    <tr>\n",
       "      <th>6</th>\n",
       "      <td>2016-06-21</td>\n",
       "      <td>2016-06-24</td>\n",
       "      <td>2016-07-21</td>\n",
       "      <td>-0.02</td>\n",
       "      <td>12.02</td>\n",
       "      <td>-0.25</td>\n",
       "      <td>-3.57</td>\n",
       "      <td>-21470</td>\n",
       "      <td>25850</td>\n",
       "      <td>3</td>\n",
       "      <td>5</td>\n",
       "      <td>21800</td>\n",
       "      <td>7266.67</td>\n",
       "      <td>21.80</td>\n",
       "      <td>7.27</td>\n",
       "    </tr>\n",
       "    <tr>\n",
       "      <th>8</th>\n",
       "      <td>2016-06-22</td>\n",
       "      <td>2016-06-24</td>\n",
       "      <td>2016-07-21</td>\n",
       "      <td>-0.02</td>\n",
       "      <td>11.80</td>\n",
       "      <td>-0.27</td>\n",
       "      <td>-3.86</td>\n",
       "      <td>-22460</td>\n",
       "      <td>25850</td>\n",
       "      <td>2</td>\n",
       "      <td>4</td>\n",
       "      <td>13480</td>\n",
       "      <td>6740.00</td>\n",
       "      <td>13.48</td>\n",
       "      <td>6.74</td>\n",
       "    </tr>\n",
       "    <tr>\n",
       "      <th>9</th>\n",
       "      <td>2016-06-22</td>\n",
       "      <td>2016-06-24</td>\n",
       "      <td>2016-08-18</td>\n",
       "      <td>0.00</td>\n",
       "      <td>16.50</td>\n",
       "      <td>-0.50</td>\n",
       "      <td>-2.58</td>\n",
       "      <td>-30870</td>\n",
       "      <td>33830</td>\n",
       "      <td>2</td>\n",
       "      <td>3</td>\n",
       "      <td>8820</td>\n",
       "      <td>4410.00</td>\n",
       "      <td>8.82</td>\n",
       "      <td>4.41</td>\n",
       "    </tr>\n",
       "    <tr>\n",
       "      <th>10</th>\n",
       "      <td>2016-06-23</td>\n",
       "      <td>2016-06-24</td>\n",
       "      <td>2016-07-21</td>\n",
       "      <td>0.00</td>\n",
       "      <td>11.62</td>\n",
       "      <td>-0.14</td>\n",
       "      <td>-4.05</td>\n",
       "      <td>-22790</td>\n",
       "      <td>25850</td>\n",
       "      <td>1</td>\n",
       "      <td>4</td>\n",
       "      <td>12160</td>\n",
       "      <td>12160.00</td>\n",
       "      <td>12.16</td>\n",
       "      <td>12.16</td>\n",
       "    </tr>\n",
       "    <tr>\n",
       "      <th>11</th>\n",
       "      <td>2016-06-23</td>\n",
       "      <td>2016-06-24</td>\n",
       "      <td>2016-08-18</td>\n",
       "      <td>-0.01</td>\n",
       "      <td>16.38</td>\n",
       "      <td>-0.51</td>\n",
       "      <td>-2.63</td>\n",
       "      <td>-29660</td>\n",
       "      <td>32730</td>\n",
       "      <td>1</td>\n",
       "      <td>3</td>\n",
       "      <td>9150</td>\n",
       "      <td>9150.00</td>\n",
       "      <td>9.15</td>\n",
       "      <td>9.15</td>\n",
       "    </tr>\n",
       "  </tbody>\n",
       "</table>\n",
       "</div>"
      ],
      "text/plain": [
       "   entry_date  exit_date maturity_date  entry_delta  entry_vega  entry_rho  entry_theta  entry_price  exit_price  holding_period  num_contracts  Actual_Profit  Average_Day_Profit  Total_Return_pct  Average_Daily_Return_pct\n",
       "6  2016-06-21 2016-06-24    2016-07-21        -0.02       12.02      -0.25        -3.57       -21470       25850               3              5          21800             7266.67             21.80                      7.27\n",
       "8  2016-06-22 2016-06-24    2016-07-21        -0.02       11.80      -0.27        -3.86       -22460       25850               2              4          13480             6740.00             13.48                      6.74\n",
       "9  2016-06-22 2016-06-24    2016-08-18         0.00       16.50      -0.50        -2.58       -30870       33830               2              3           8820             4410.00              8.82                      4.41\n",
       "10 2016-06-23 2016-06-24    2016-07-21         0.00       11.62      -0.14        -4.05       -22790       25850               1              4          12160            12160.00             12.16                     12.16\n",
       "11 2016-06-23 2016-06-24    2016-08-18        -0.01       16.38      -0.51        -2.63       -29660       32730               1              3           9150             9150.00              9.15                      9.15"
      ]
     },
     "execution_count": 4,
     "metadata": {},
     "output_type": "execute_result"
    }
   ],
   "source": [
    "df_after[df_after['Average_Daily_Return_pct'] > RETURN_THRE]"
   ]
  },
  {
   "cell_type": "code",
   "execution_count": 5,
   "metadata": {},
   "outputs": [
    {
     "data": {
      "text/html": [
       "<div>\n",
       "<style scoped>\n",
       "    .dataframe tbody tr th:only-of-type {\n",
       "        vertical-align: middle;\n",
       "    }\n",
       "\n",
       "    .dataframe tbody tr th {\n",
       "        vertical-align: top;\n",
       "    }\n",
       "\n",
       "    .dataframe thead th {\n",
       "        text-align: right;\n",
       "    }\n",
       "</style>\n",
       "<table border=\"1\" class=\"dataframe\">\n",
       "  <thead>\n",
       "    <tr style=\"text-align: right;\">\n",
       "      <th></th>\n",
       "      <th>entry_date</th>\n",
       "      <th>exit_date</th>\n",
       "      <th>maturity_date</th>\n",
       "      <th>entry_delta</th>\n",
       "      <th>entry_vega</th>\n",
       "      <th>entry_rho</th>\n",
       "      <th>entry_theta</th>\n",
       "      <th>entry_price</th>\n",
       "      <th>exit_price</th>\n",
       "      <th>holding_period</th>\n",
       "      <th>num_contracts</th>\n",
       "      <th>Actual_Profit</th>\n",
       "      <th>Average_Day_Profit</th>\n",
       "      <th>Total_Return_pct</th>\n",
       "      <th>Average_Daily_Return_pct</th>\n",
       "    </tr>\n",
       "  </thead>\n",
       "  <tbody>\n",
       "  </tbody>\n",
       "</table>\n",
       "</div>"
      ],
      "text/plain": [
       "Empty DataFrame\n",
       "Columns: [entry_date, exit_date, maturity_date, entry_delta, entry_vega, entry_rho, entry_theta, entry_price, exit_price, holding_period, num_contracts, Actual_Profit, Average_Day_Profit, Total_Return_pct, Average_Daily_Return_pct]\n",
       "Index: []"
      ]
     },
     "execution_count": 5,
     "metadata": {},
     "output_type": "execute_result"
    }
   ],
   "source": [
    "df_after[df_after['Average_Daily_Return_pct'] < -RETURN_THRE]"
   ]
  },
  {
   "cell_type": "code",
   "execution_count": 6,
   "metadata": {},
   "outputs": [
    {
     "data": {
      "text/html": [
       "<div>\n",
       "<style scoped>\n",
       "    .dataframe tbody tr th:only-of-type {\n",
       "        vertical-align: middle;\n",
       "    }\n",
       "\n",
       "    .dataframe tbody tr th {\n",
       "        vertical-align: top;\n",
       "    }\n",
       "\n",
       "    .dataframe thead th {\n",
       "        text-align: right;\n",
       "    }\n",
       "</style>\n",
       "<table border=\"1\" class=\"dataframe\">\n",
       "  <thead>\n",
       "    <tr style=\"text-align: right;\">\n",
       "      <th></th>\n",
       "      <th>entry_date</th>\n",
       "      <th>exit_date</th>\n",
       "      <th>maturity_date</th>\n",
       "      <th>entry_delta</th>\n",
       "      <th>entry_vega</th>\n",
       "      <th>entry_rho</th>\n",
       "      <th>entry_theta</th>\n",
       "      <th>entry_price</th>\n",
       "      <th>exit_price</th>\n",
       "      <th>holding_period</th>\n",
       "      <th>num_contracts</th>\n",
       "      <th>Actual_Profit</th>\n",
       "      <th>Average_Day_Profit</th>\n",
       "      <th>Total_Return_pct</th>\n",
       "      <th>Average_Daily_Return_pct</th>\n",
       "    </tr>\n",
       "  </thead>\n",
       "  <tbody>\n",
       "    <tr>\n",
       "      <th>6</th>\n",
       "      <td>2016-06-21</td>\n",
       "      <td>2016-06-24</td>\n",
       "      <td>2016-07-21</td>\n",
       "      <td>-0.02</td>\n",
       "      <td>12.02</td>\n",
       "      <td>-0.25</td>\n",
       "      <td>-3.57</td>\n",
       "      <td>-21470</td>\n",
       "      <td>25850</td>\n",
       "      <td>3</td>\n",
       "      <td>5</td>\n",
       "      <td>21800</td>\n",
       "      <td>7266.67</td>\n",
       "      <td>21.80</td>\n",
       "      <td>7.27</td>\n",
       "    </tr>\n",
       "    <tr>\n",
       "      <th>8</th>\n",
       "      <td>2016-06-22</td>\n",
       "      <td>2016-06-24</td>\n",
       "      <td>2016-07-21</td>\n",
       "      <td>-0.02</td>\n",
       "      <td>11.80</td>\n",
       "      <td>-0.27</td>\n",
       "      <td>-3.86</td>\n",
       "      <td>-22460</td>\n",
       "      <td>25850</td>\n",
       "      <td>2</td>\n",
       "      <td>4</td>\n",
       "      <td>13480</td>\n",
       "      <td>6740.00</td>\n",
       "      <td>13.48</td>\n",
       "      <td>6.74</td>\n",
       "    </tr>\n",
       "    <tr>\n",
       "      <th>9</th>\n",
       "      <td>2016-06-22</td>\n",
       "      <td>2016-06-24</td>\n",
       "      <td>2016-08-18</td>\n",
       "      <td>0.00</td>\n",
       "      <td>16.50</td>\n",
       "      <td>-0.50</td>\n",
       "      <td>-2.58</td>\n",
       "      <td>-30870</td>\n",
       "      <td>33830</td>\n",
       "      <td>2</td>\n",
       "      <td>3</td>\n",
       "      <td>8820</td>\n",
       "      <td>4410.00</td>\n",
       "      <td>8.82</td>\n",
       "      <td>4.41</td>\n",
       "    </tr>\n",
       "    <tr>\n",
       "      <th>10</th>\n",
       "      <td>2016-06-23</td>\n",
       "      <td>2016-06-24</td>\n",
       "      <td>2016-07-21</td>\n",
       "      <td>0.00</td>\n",
       "      <td>11.62</td>\n",
       "      <td>-0.14</td>\n",
       "      <td>-4.05</td>\n",
       "      <td>-22790</td>\n",
       "      <td>25850</td>\n",
       "      <td>1</td>\n",
       "      <td>4</td>\n",
       "      <td>12160</td>\n",
       "      <td>12160.00</td>\n",
       "      <td>12.16</td>\n",
       "      <td>12.16</td>\n",
       "    </tr>\n",
       "    <tr>\n",
       "      <th>11</th>\n",
       "      <td>2016-06-23</td>\n",
       "      <td>2016-06-24</td>\n",
       "      <td>2016-08-18</td>\n",
       "      <td>-0.01</td>\n",
       "      <td>16.38</td>\n",
       "      <td>-0.51</td>\n",
       "      <td>-2.63</td>\n",
       "      <td>-29660</td>\n",
       "      <td>32730</td>\n",
       "      <td>1</td>\n",
       "      <td>3</td>\n",
       "      <td>9150</td>\n",
       "      <td>9150.00</td>\n",
       "      <td>9.15</td>\n",
       "      <td>9.15</td>\n",
       "    </tr>\n",
       "  </tbody>\n",
       "</table>\n",
       "</div>"
      ],
      "text/plain": [
       "   entry_date  exit_date maturity_date  entry_delta  entry_vega  entry_rho  entry_theta  entry_price  exit_price  holding_period  num_contracts  Actual_Profit  Average_Day_Profit  Total_Return_pct  Average_Daily_Return_pct\n",
       "6  2016-06-21 2016-06-24    2016-07-21        -0.02       12.02      -0.25        -3.57       -21470       25850               3              5          21800             7266.67             21.80                      7.27\n",
       "8  2016-06-22 2016-06-24    2016-07-21        -0.02       11.80      -0.27        -3.86       -22460       25850               2              4          13480             6740.00             13.48                      6.74\n",
       "9  2016-06-22 2016-06-24    2016-08-18         0.00       16.50      -0.50        -2.58       -30870       33830               2              3           8820             4410.00              8.82                      4.41\n",
       "10 2016-06-23 2016-06-24    2016-07-21         0.00       11.62      -0.14        -4.05       -22790       25850               1              4          12160            12160.00             12.16                     12.16\n",
       "11 2016-06-23 2016-06-24    2016-08-18        -0.01       16.38      -0.51        -2.63       -29660       32730               1              3           9150             9150.00              9.15                      9.15"
      ]
     },
     "execution_count": 6,
     "metadata": {},
     "output_type": "execute_result"
    }
   ],
   "source": [
    "# large return, short hoding period\n",
    "df_after[(abs(df_after['Average_Daily_Return_pct']) > RETURN_THRE) &  (df_after['holding_period'] < 4)]"
   ]
  },
  {
   "cell_type": "code",
   "execution_count": 7,
   "metadata": {},
   "outputs": [],
   "source": [
    "# before the result\n",
    "\n",
    "path_before = os.path.join(infp , \"Result\" , MARKET , MARKET +\"_\" + EVENT , \"before\")\n",
    "entries = os.listdir(path_before)\n",
    "NKY_FED_before = pd.DataFrame()\n",
    "\n",
    "for entry in entries[:NUM_FILE]:\n",
    "    xls_file = os.path.join(path_before, entry)\n",
    "    df = pd.read_excel(xls_file)\n",
    "    NKY_FED_before = NKY_FED_before.append(df, ignore_index = True)\n",
    "\n",
    "df_before = NKY_FED_before.drop([\"trade_num\", \"entry_gamma\",\"total_t_cost\"], axis = 1)\n",
    "\n"
   ]
  },
  {
   "cell_type": "code",
   "execution_count": 8,
   "metadata": {},
   "outputs": [
    {
     "data": {
      "text/html": [
       "<div>\n",
       "<style scoped>\n",
       "    .dataframe tbody tr th:only-of-type {\n",
       "        vertical-align: middle;\n",
       "    }\n",
       "\n",
       "    .dataframe tbody tr th {\n",
       "        vertical-align: top;\n",
       "    }\n",
       "\n",
       "    .dataframe thead th {\n",
       "        text-align: right;\n",
       "    }\n",
       "</style>\n",
       "<table border=\"1\" class=\"dataframe\">\n",
       "  <thead>\n",
       "    <tr style=\"text-align: right;\">\n",
       "      <th></th>\n",
       "      <th>entry_date</th>\n",
       "      <th>exit_date</th>\n",
       "      <th>maturity_date</th>\n",
       "      <th>entry_delta</th>\n",
       "      <th>entry_vega</th>\n",
       "      <th>entry_rho</th>\n",
       "      <th>entry_theta</th>\n",
       "      <th>entry_price</th>\n",
       "      <th>exit_price</th>\n",
       "      <th>holding_period</th>\n",
       "      <th>num_contracts</th>\n",
       "      <th>Actual_Profit</th>\n",
       "      <th>Average_Day_Profit</th>\n",
       "      <th>Total_Return_pct</th>\n",
       "      <th>Average_Daily_Return_pct</th>\n",
       "    </tr>\n",
       "  </thead>\n",
       "  <tbody>\n",
       "  </tbody>\n",
       "</table>\n",
       "</div>"
      ],
      "text/plain": [
       "Empty DataFrame\n",
       "Columns: [entry_date, exit_date, maturity_date, entry_delta, entry_vega, entry_rho, entry_theta, entry_price, exit_price, holding_period, num_contracts, Actual_Profit, Average_Day_Profit, Total_Return_pct, Average_Daily_Return_pct]\n",
       "Index: []"
      ]
     },
     "execution_count": 8,
     "metadata": {},
     "output_type": "execute_result"
    }
   ],
   "source": [
    "df_before[df_before['Average_Daily_Return_pct'] > RETURN_THRE]"
   ]
  },
  {
   "cell_type": "code",
   "execution_count": 9,
   "metadata": {},
   "outputs": [
    {
     "data": {
      "text/html": [
       "<div>\n",
       "<style scoped>\n",
       "    .dataframe tbody tr th:only-of-type {\n",
       "        vertical-align: middle;\n",
       "    }\n",
       "\n",
       "    .dataframe tbody tr th {\n",
       "        vertical-align: top;\n",
       "    }\n",
       "\n",
       "    .dataframe thead th {\n",
       "        text-align: right;\n",
       "    }\n",
       "</style>\n",
       "<table border=\"1\" class=\"dataframe\">\n",
       "  <thead>\n",
       "    <tr style=\"text-align: right;\">\n",
       "      <th></th>\n",
       "      <th>entry_date</th>\n",
       "      <th>exit_date</th>\n",
       "      <th>maturity_date</th>\n",
       "      <th>entry_delta</th>\n",
       "      <th>entry_vega</th>\n",
       "      <th>entry_rho</th>\n",
       "      <th>entry_theta</th>\n",
       "      <th>entry_price</th>\n",
       "      <th>exit_price</th>\n",
       "      <th>holding_period</th>\n",
       "      <th>num_contracts</th>\n",
       "      <th>Actual_Profit</th>\n",
       "      <th>Average_Day_Profit</th>\n",
       "      <th>Total_Return_pct</th>\n",
       "      <th>Average_Daily_Return_pct</th>\n",
       "    </tr>\n",
       "  </thead>\n",
       "  <tbody>\n",
       "  </tbody>\n",
       "</table>\n",
       "</div>"
      ],
      "text/plain": [
       "Empty DataFrame\n",
       "Columns: [entry_date, exit_date, maturity_date, entry_delta, entry_vega, entry_rho, entry_theta, entry_price, exit_price, holding_period, num_contracts, Actual_Profit, Average_Day_Profit, Total_Return_pct, Average_Daily_Return_pct]\n",
       "Index: []"
      ]
     },
     "execution_count": 9,
     "metadata": {},
     "output_type": "execute_result"
    }
   ],
   "source": [
    "df_before[df_before['Average_Daily_Return_pct'] < -RETURN_THRE]"
   ]
  },
  {
   "cell_type": "code",
   "execution_count": 10,
   "metadata": {},
   "outputs": [
    {
     "data": {
      "text/html": [
       "<div>\n",
       "<style scoped>\n",
       "    .dataframe tbody tr th:only-of-type {\n",
       "        vertical-align: middle;\n",
       "    }\n",
       "\n",
       "    .dataframe tbody tr th {\n",
       "        vertical-align: top;\n",
       "    }\n",
       "\n",
       "    .dataframe thead th {\n",
       "        text-align: right;\n",
       "    }\n",
       "</style>\n",
       "<table border=\"1\" class=\"dataframe\">\n",
       "  <thead>\n",
       "    <tr style=\"text-align: right;\">\n",
       "      <th></th>\n",
       "      <th>entry_date</th>\n",
       "      <th>exit_date</th>\n",
       "      <th>maturity_date</th>\n",
       "      <th>entry_delta</th>\n",
       "      <th>entry_vega</th>\n",
       "      <th>entry_rho</th>\n",
       "      <th>entry_theta</th>\n",
       "      <th>entry_price</th>\n",
       "      <th>exit_price</th>\n",
       "      <th>holding_period</th>\n",
       "      <th>num_contracts</th>\n",
       "      <th>Actual_Profit</th>\n",
       "      <th>Average_Day_Profit</th>\n",
       "      <th>Total_Return_pct</th>\n",
       "      <th>Average_Daily_Return_pct</th>\n",
       "    </tr>\n",
       "  </thead>\n",
       "  <tbody>\n",
       "  </tbody>\n",
       "</table>\n",
       "</div>"
      ],
      "text/plain": [
       "Empty DataFrame\n",
       "Columns: [entry_date, exit_date, maturity_date, entry_delta, entry_vega, entry_rho, entry_theta, entry_price, exit_price, holding_period, num_contracts, Actual_Profit, Average_Day_Profit, Total_Return_pct, Average_Daily_Return_pct]\n",
       "Index: []"
      ]
     },
     "execution_count": 10,
     "metadata": {},
     "output_type": "execute_result"
    }
   ],
   "source": [
    "# large return, short hoding period\n",
    "df_before[(abs(df_before['Average_Daily_Return_pct']) > RETURN_THRE) &  (df_before['holding_period'] < 4)]"
   ]
  },
  {
   "cell_type": "code",
   "execution_count": 11,
   "metadata": {},
   "outputs": [
    {
     "data": {
      "text/plain": [
       "4.26"
      ]
     },
     "execution_count": 11,
     "metadata": {},
     "output_type": "execute_result"
    }
   ],
   "source": [
    "abs(df_after['Average_Daily_Return_pct']).mean()"
   ]
  },
  {
   "cell_type": "code",
   "execution_count": 15,
   "metadata": {},
   "outputs": [
    {
     "name": "stdout",
     "output_type": "stream",
     "text": [
      "Exit after the event - mean: 7.1866666666666665\n",
      "Exit after the event - std: 3.191229648061491\n",
      "Exit after the event - Sharpe: 0.375334247256\n",
      "Exit before the event - mean: 1.3866666666666667\n",
      "Exit before the event - std: 0.9318512041450968\n",
      "Exit after the event - Sharpe: 0.248012890988\n"
     ]
    }
   ],
   "source": [
    "import numpy as np\n",
    "\n",
    "print(\"Exit after the event - mean:\", df_after[(df_after['holding_period'] < 4)]['Average_Daily_Return_pct'].mean())\n",
    "print(\"Exit after the event - std:\", df_after[(df_after['holding_period'] < 4)]['Average_Daily_Return_pct'].std())\n",
    "print(\"Exit after the event - Sharpe:\", df_after[(df_after['holding_period'] < 4)]['Average_Daily_Return_pct'].mean()/df_after[(df_after['holding_period'] < 4)]['Average_Daily_Return_pct'].std()/np.sqrt(df_after[(df_after['holding_period'] < 4)]['Average_Daily_Return_pct'].count())\n",
    "\n",
    "\n",
    "\n",
    "print(\"Exit before the event - mean:\", df_before[(df_before['holding_period'] < 4)]['Average_Daily_Return_pct'].mean())\n",
    "print(\"Exit before the event - std:\", df_before[(df_before['holding_period'] < 4)]['Average_Daily_Return_pct'].std())\n",
    "print(\"Exit before the event - Sharpe:\", df_before[(df_before['holding_period'] < 4)]['Average_Daily_Return_pct'].mean()/df_before[(df_before['holding_period'] < 4)]['Average_Daily_Return_pct'].std()/np.sqrt(df_after[(df_after['holding_period'] < 4)]['Average_Daily_Return_pct'].count())"
   ]
  },
  {
   "cell_type": "code",
   "execution_count": 14,
   "metadata": {},
   "outputs": [
    {
     "name": "stdout",
     "output_type": "stream",
     "text": [
      "Exit after the event - abs mean: 4.26\n",
      "Exit before the event - abs mean: 1.593\n"
     ]
    }
   ],
   "source": [
    "print(\"Exit after the event - abs mean:\", abs(df_after['Average_Daily_Return_pct']).mean())\n",
    "print(\"Exit before the event - abs mean:\", abs(df_before['Average_Daily_Return_pct']).mean())"
   ]
  },
  {
   "cell_type": "code",
   "execution_count": null,
   "metadata": {},
   "outputs": [],
   "source": []
  },
  {
   "cell_type": "code",
   "execution_count": null,
   "metadata": {},
   "outputs": [],
   "source": []
  },
  {
   "cell_type": "code",
   "execution_count": null,
   "metadata": {},
   "outputs": [],
   "source": []
  },
  {
   "cell_type": "code",
   "execution_count": null,
   "metadata": {},
   "outputs": [],
   "source": []
  },
  {
   "cell_type": "code",
   "execution_count": null,
   "metadata": {},
   "outputs": [],
   "source": []
  },
  {
   "cell_type": "code",
   "execution_count": null,
   "metadata": {},
   "outputs": [],
   "source": []
  }
 ],
 "metadata": {
  "kernelspec": {
   "display_name": "Python 3",
   "language": "python",
   "name": "python3"
  },
  "language_info": {
   "codemirror_mode": {
    "name": "ipython",
    "version": 3
   },
   "file_extension": ".py",
   "mimetype": "text/x-python",
   "name": "python",
   "nbconvert_exporter": "python",
   "pygments_lexer": "ipython3",
   "version": "3.6.6"
  }
 },
 "nbformat": 4,
 "nbformat_minor": 2
}
